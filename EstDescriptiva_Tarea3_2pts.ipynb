{
  "nbformat": 4,
  "nbformat_minor": 0,
  "metadata": {
    "colab": {
      "provenance": [],
      "authorship_tag": "ABX9TyPmValUc9ebYQ6ihVExEKxr",
      "include_colab_link": true
    },
    "kernelspec": {
      "name": "python3",
      "display_name": "Python 3"
    },
    "language_info": {
      "name": "python"
    }
  },
  "cells": [
    {
      "cell_type": "markdown",
      "metadata": {
        "id": "view-in-github",
        "colab_type": "text"
      },
      "source": [
        "<a href=\"https://colab.research.google.com/github/EmmanuelRamos143/AA/blob/main/EstDescriptiva_Tarea3_2pts.ipynb\" target=\"_parent\"><img src=\"https://colab.research.google.com/assets/colab-badge.svg\" alt=\"Open In Colab\"/></a>"
      ]
    },
    {
      "cell_type": "code",
      "execution_count": 26,
      "metadata": {
        "colab": {
          "base_uri": "https://localhost:8080/"
        },
        "id": "RA36-m-qqtEw",
        "outputId": "9d1450f5-c72b-42b5-89e5-b57b52fa5ed0"
      },
      "outputs": [
        {
          "output_type": "stream",
          "name": "stdout",
          "text": [
            "246.26402640264027\n",
            "246.26402640264027\n",
            "240\n",
            "240.0\n",
            "51.74515101045714\n",
            "51.83075098793003\n"
          ]
        }
      ],
      "source": [
        "import pandas as pd\n",
        "from IPython.display import display, Markdown\n",
        "import numpy as np\n",
        "\n",
        "hearth_df = pd.read_csv(\"/heart.csv\")\n",
        "##Verify DF is loaded correctly\n",
        "#display(Markdown(hearth_df.head().to_markdown()))\n",
        "\n",
        "### Metodo para media\n",
        "def mean(df, colName):\n",
        "  if colName in df.columns:\n",
        "    return (sum(df[colName])/df.count()).iloc[0]\n",
        "\n",
        "## Se puede pasar cualquier columna del DF, se valida que la columa exista \n",
        "\n",
        "##Media calculada por funcion\n",
        "print(mean(hearth_df, 'chol'))\n",
        "##Media obtenida por funcion\n",
        "print(hearth_df['chol'].mean())\n",
        "\n",
        "### MEtodo para mediana\n",
        "def mediana(df, colName):\n",
        "  if colName in df.columns:\n",
        "    valores_array = df[colName].array\n",
        "    valores_ordenados_arr = sorted(valores_array)\n",
        "    if len(valores_ordenados_arr) % 2 != 0:\n",
        "      return valores_ordenados_arr[len(valores_ordenados_arr)//2]\n",
        "    else:\n",
        "      return (valores_ordenados_arr[len(valores_ordenados_arr) -1] +valores_ordenados_arr[len(valores_ordenados_arr) +1])/2  \n",
        "##Mediana Calculada\n",
        "print(mediana(hearth_df, 'chol'))\n",
        "##Mediana obtenida por funcion\n",
        "print(hearth_df['chol'].median())\n",
        "\n",
        "import math\n",
        "## Desviacion estandar\n",
        "def stdDev(df, colName):\n",
        "  if colName in df.columns:\n",
        "    valores_array = df[colName].array\n",
        "    N = len(valores_array)\n",
        "    mu = sum(valores_array)/N\n",
        "    sum_val_minus_mu = 0\n",
        "    for v in valores_array:\n",
        "      sum_val_minus_mu = sum_val_minus_mu + pow(v -mu,2) \n",
        "    return (math.sqrt((sum_val_minus_mu/N)))  \n",
        "##StdDev calculada\n",
        "print(stdDev(hearth_df, 'chol'))\n",
        "##StdDev obtenida por funcion\n",
        "print(hearth_df['chol'].std())\n",
        "\n",
        "\n"
      ]
    }
  ]
}