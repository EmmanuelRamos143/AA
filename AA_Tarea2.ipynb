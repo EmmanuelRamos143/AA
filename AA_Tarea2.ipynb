{
  "nbformat": 4,
  "nbformat_minor": 0,
  "metadata": {
    "colab": {
      "provenance": [],
      "authorship_tag": "ABX9TyP867eFt6sphSVWiSf+BDCT",
      "include_colab_link": true
    },
    "kernelspec": {
      "name": "python3",
      "display_name": "Python 3"
    },
    "language_info": {
      "name": "python"
    }
  },
  "cells": [
    {
      "cell_type": "markdown",
      "metadata": {
        "id": "view-in-github",
        "colab_type": "text"
      },
      "source": [
        "<a href=\"https://colab.research.google.com/github/EmmanuelRamos143/AA/blob/main/AA_Tarea2.ipynb\" target=\"_parent\"><img src=\"https://colab.research.google.com/assets/colab-badge.svg\" alt=\"Open In Colab\"/></a>"
      ]
    },
    {
      "cell_type": "code",
      "execution_count": 26,
      "metadata": {
        "colab": {
          "base_uri": "https://localhost:8080/",
          "height": 206
        },
        "id": "ILWcqHH714R6",
        "outputId": "7658b709-dc7e-44fe-cc6c-8e20a6cee690"
      },
      "outputs": [
        {
          "output_type": "display_data",
          "data": {
            "text/plain": [
              "<IPython.core.display.Markdown object>"
            ],
            "text/markdown": "|    |   age |   sex |   cp |   trtbps |   chol |   fbs |   restecg |   thalachh |   exng |   oldpeak |   slp |   caa |   thall |   output |\n|---:|------:|------:|-----:|---------:|-------:|------:|----------:|-----------:|-------:|----------:|------:|------:|--------:|---------:|\n|  0 |    63 |     1 |    3 |      145 |    233 |     1 |         0 |        150 |      0 |       2.3 |     0 |     0 |       1 |        1 |\n|  1 |    37 |     1 |    2 |      130 |    250 |     0 |         1 |        187 |      0 |       3.5 |     0 |     0 |       2 |        1 |\n|  2 |    41 |     0 |    1 |      130 |    204 |     0 |         0 |        172 |      0 |       1.4 |     2 |     0 |       2 |        1 |\n|  3 |    56 |     1 |    1 |      120 |    236 |     0 |         1 |        178 |      0 |       0.8 |     2 |     0 |       2 |        1 |\n|  4 |    57 |     0 |    0 |      120 |    354 |     0 |         1 |        163 |      1 |       0.6 |     2 |     0 |       2 |        1 |"
          },
          "metadata": {}
        }
      ],
      "source": [
        "import pandas as pd\n",
        "from IPython.display import display, Markdown\n",
        "import numpy as np\n",
        "\n",
        "hearth_df = pd.read_csv(\"/heart.csv\")\n",
        "##Verify DF is loaded correctly\n",
        "display(Markdown(hearth_df.head().to_markdown()))\n"
      ]
    },
    {
      "cell_type": "code",
      "source": [
        "hearth_df.dtypes"
      ],
      "metadata": {
        "colab": {
          "base_uri": "https://localhost:8080/"
        },
        "id": "Y4Y0EM6O3vAt",
        "outputId": "59c52bca-a700-4a37-99a6-e7d1ba04df71"
      },
      "execution_count": 27,
      "outputs": [
        {
          "output_type": "execute_result",
          "data": {
            "text/plain": [
              "age           int64\n",
              "sex           int64\n",
              "cp            int64\n",
              "trtbps        int64\n",
              "chol          int64\n",
              "fbs           int64\n",
              "restecg       int64\n",
              "thalachh      int64\n",
              "exng          int64\n",
              "oldpeak     float64\n",
              "slp           int64\n",
              "caa           int64\n",
              "thall         int64\n",
              "output        int64\n",
              "dtype: object"
            ]
          },
          "metadata": {},
          "execution_count": 27
        }
      ]
    },
    {
      "cell_type": "code",
      "source": [],
      "metadata": {
        "id": "L8TxiEwh7P0B"
      },
      "execution_count": null,
      "outputs": []
    },
    {
      "cell_type": "markdown",
      "source": [
        "Actualizacion de dos tipos de datos, los cuales se reviso previamente contenian 0 y 1 , se convertiran a tipo **_boolean_**"
      ],
      "metadata": {
        "id": "Kjq3XV-s66Ub"
      }
    },
    {
      "cell_type": "code",
      "source": [
        "hearth_df_cp = hearth_df.copy()\n",
        "#Convert the columns which are boolean\n",
        "hearth_df['fbs'] = hearth_df['fbs'].astype('bool')\n",
        "hearth_df['output'] = hearth_df['output'].astype('bool')\n",
        "#Verify Data type, Note as there is no char type all other columns remain as is\n",
        "hearth_df.dtypes\n",
        "\n",
        "\n",
        "\n",
        "\n"
      ],
      "metadata": {
        "colab": {
          "base_uri": "https://localhost:8080/"
        },
        "id": "0b9wpCll3t0a",
        "outputId": "5bfd6bc8-39b8-4e44-9e52-a7a5cfe95cd2"
      },
      "execution_count": 28,
      "outputs": [
        {
          "output_type": "execute_result",
          "data": {
            "text/plain": [
              "age           int64\n",
              "sex           int64\n",
              "cp            int64\n",
              "trtbps        int64\n",
              "chol          int64\n",
              "fbs            bool\n",
              "restecg       int64\n",
              "thalachh      int64\n",
              "exng          int64\n",
              "oldpeak     float64\n",
              "slp           int64\n",
              "caa           int64\n",
              "thall         int64\n",
              "output         bool\n",
              "dtype: object"
            ]
          },
          "metadata": {},
          "execution_count": 28
        }
      ]
    },
    {
      "cell_type": "markdown",
      "source": [
        "# Filtro de registros para su exploracion\n",
        "\n",
        "Los registros con CP (Chest Pain) estan categorizados de la siguiente manera.\n",
        "\n",
        "0.   Typical Angina\n",
        "1.   Atypical Angina\n",
        "2.   Non-anginal Pain\n",
        "3.   Asymptomatic\n",
        "\n",
        "\n",
        "\n",
        "\n",
        "\n",
        "\n",
        "\n"
      ],
      "metadata": {
        "id": "Nd5oW6m2Uv1G"
      }
    },
    {
      "cell_type": "code",
      "source": [
        "# Verificamos el total de personas las por el tipo de dolor en pecho\n",
        "\n",
        "\n",
        "## Primer paso agregar una columna con el significado de el tipo de dolor de pecho \n",
        "## Nota: Esto es solo para el analisis de el tipo de dolor\n",
        "conditions_chest_pain = [\n",
        "    (hearth_df['cp'] == 0),\n",
        "    (hearth_df['cp'] == 1),\n",
        "    (hearth_df['cp'] == 2) ,\n",
        "    (hearth_df['cp'] == 3)\n",
        "    ]\n",
        "\n",
        "# Creamos una lista de la misma longitud de condiciones que se van a evaluar\n",
        "values_chest_pain_types = ['Typical angina', 'Atypical Angina', 'Non-anginal Pain', 'Asymptomatic']\n",
        "\n",
        "# Creamos nueva columna con basado en las condiciones previas\n",
        "hearth_df['chest_pain_types'] = np.select(conditions_chest_pain, values_chest_pain_types)\n",
        "\n",
        "\n",
        "df_hearth_group = hearth_df.groupby('chest_pain_types')['cp'].count()\n",
        "\n",
        "print(df_hearth_group.tail())\n",
        "\n",
        "### Creamos filtro individual y revisamos el valor count \n",
        "print(\"\\n \")\n",
        "print(\"Filtro individual por item\")\n",
        "count_hearth_cp_typical_angina =hearth_df.filter(items=['cp'])[hearth_df['cp'] == 0].count()\n",
        "\n",
        "print(count_hearth_cp_typical_angina.iloc[0])"
      ],
      "metadata": {
        "id": "tOSbIrI8vTXx",
        "outputId": "e1c0aa1a-7155-4a6e-9a37-784f7fe2db26",
        "colab": {
          "base_uri": "https://localhost:8080/"
        }
      },
      "execution_count": 37,
      "outputs": [
        {
          "output_type": "stream",
          "name": "stdout",
          "text": [
            "chest_pain_types\n",
            "Asymptomatic         23\n",
            "Atypical Angina      50\n",
            "Non-anginal Pain     87\n",
            "Typical angina      143\n",
            "Name: cp, dtype: int64\n",
            "\n",
            " \n",
            "Filtro individual por item\n",
            "143\n"
          ]
        }
      ]
    }
  ]
}