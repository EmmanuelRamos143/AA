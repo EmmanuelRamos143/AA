{
  "nbformat": 4,
  "nbformat_minor": 0,
  "metadata": {
    "colab": {
      "provenance": [],
      "authorship_tag": "ABX9TyOw38OQN5tgyqJ4Jp/MBtgD",
      "include_colab_link": true
    },
    "kernelspec": {
      "name": "python3",
      "display_name": "Python 3"
    },
    "language_info": {
      "name": "python"
    }
  },
  "cells": [
    {
      "cell_type": "markdown",
      "metadata": {
        "id": "view-in-github",
        "colab_type": "text"
      },
      "source": [
        "<a href=\"https://colab.research.google.com/github/EmmanuelRamos143/AA/blob/main/Tarea7/Classificacion.ipynb\" target=\"_parent\"><img src=\"https://colab.research.google.com/assets/colab-badge.svg\" alt=\"Open In Colab\"/></a>"
      ]
    },
    {
      "cell_type": "code",
      "execution_count": null,
      "metadata": {
        "id": "Td_20R-ZlFyZ",
        "colab": {
          "base_uri": "https://localhost:8080/",
          "height": 206
        },
        "outputId": "74526962-d982-4d95-8f31-c2ad17da16d2"
      },
      "outputs": [
        {
          "output_type": "display_data",
          "data": {
            "text/plain": [
              "<IPython.core.display.Markdown object>"
            ],
            "text/markdown": "|    |   age |   sex |   cp |   trtbps |   chol |   fbs |   restecg |   thalachh |   exng |   oldpeak |   slp |   caa |   thall |   output |\n|---:|------:|------:|-----:|---------:|-------:|------:|----------:|-----------:|-------:|----------:|------:|------:|--------:|---------:|\n|  0 |    63 |     1 |    3 |      145 |    233 |     1 |         0 |        150 |      0 |       2.3 |     0 |     0 |       1 |        1 |\n|  1 |    37 |     1 |    2 |      130 |    250 |     0 |         1 |        187 |      0 |       3.5 |     0 |     0 |       2 |        1 |\n|  2 |    41 |     0 |    1 |      130 |    204 |     0 |         0 |        172 |      0 |       1.4 |     2 |     0 |       2 |        1 |\n|  3 |    56 |     1 |    1 |      120 |    236 |     0 |         1 |        178 |      0 |       0.8 |     2 |     0 |       2 |        1 |\n|  4 |    57 |     0 |    0 |      120 |    354 |     0 |         1 |        163 |      1 |       0.6 |     2 |     0 |       2 |        1 |"
          },
          "metadata": {}
        }
      ],
      "source": [
        "#Carga inicial de datos\n",
        "import warnings\n",
        "warnings.filterwarnings('ignore')\n",
        "import sys\n",
        "\n",
        "sys.path.append('/content/HeartAttack.py')\n",
        "from HeartAttack import *\n",
        "\n",
        "heart_df = HeartAttackHelper.obtainHearthDF()\n",
        "\n",
        "display(Markdown(heart_df.head().to_markdown()))"
      ]
    },
    {
      "cell_type": "markdown",
      "source": [
        "Clasificación\n",
        "\n",
        "Los problemas de clasificación buscan predecir las categorías a las que pertenecen las variables dependientes. Por ejemplo, saber si un cliente será moroso, si un paciente tiene cierta enfermedad, etc. son problemas de clasificación.\n",
        "\n",
        "Para nuestro caso teniendo las variables seleccionadas determinaremos si dado las variables dependientes tenemos una enfermedad del corazón.\n"
      ],
      "metadata": {
        "id": "Ulnvgm6hZ_BQ"
      }
    },
    {
      "cell_type": "code",
      "source": [
        "import numpy as np\n",
        "train , test = np.split(heart_df.sample(frac = 1) , [int(0.8 * len(heart_df))])"
      ],
      "metadata": {
        "id": "ZfrHH9qVZqLW"
      },
      "execution_count": null,
      "outputs": []
    },
    {
      "cell_type": "code",
      "source": [
        "#Helper method para \n",
        "from sklearn.preprocessing import StandardScaler\n",
        "from sklearn.decomposition import PCA\n",
        "def pre(dataframe):\n",
        "    x = dataframe.drop(\"output\" , axis = 1)\n",
        "    y = dataframe[\"output\"]\n",
        "    \n",
        "    sc = StandardScaler()\n",
        "    pca = PCA(n_components = 2)\n",
        "    \n",
        "    x_sc = sc.fit_transform(x)\n",
        "    \n",
        "    X = pca.fit_transform(x_sc)\n",
        "    X = pd.DataFrame(X)\n",
        "    \n",
        "    return X , y"
      ],
      "metadata": {
        "id": "ilh3iPSHcZ31"
      },
      "execution_count": null,
      "outputs": []
    },
    {
      "cell_type": "code",
      "source": [
        "## Dividimos los datos en train y test\n",
        "X_train , Y_train = pre(train)\n",
        "X_test , Y_test = pre(test)"
      ],
      "metadata": {
        "id": "p38hYk9ycbGv"
      },
      "execution_count": null,
      "outputs": []
    },
    {
      "cell_type": "code",
      "source": [
        "##Uso de SVC\n",
        "from sklearn.svm import SVC\n",
        "model_svc = SVC()\n",
        "model_svc.fit(X_train , Y_train)"
      ],
      "metadata": {
        "colab": {
          "base_uri": "https://localhost:8080/"
        },
        "id": "a83StCWmd2Ls",
        "outputId": "82ab97da-aa7f-40d2-ec7f-2b1a49f41746"
      },
      "execution_count": null,
      "outputs": [
        {
          "output_type": "execute_result",
          "data": {
            "text/plain": [
              "SVC()"
            ]
          },
          "metadata": {},
          "execution_count": 8
        }
      ]
    },
    {
      "cell_type": "code",
      "source": [
        "#Uso de classificador Random Forest\n",
        "from sklearn.ensemble import RandomForestClassifier \n",
        "model_rfc = RandomForestClassifier()\n",
        "model_rfc.fit(X_train , Y_train)"
      ],
      "metadata": {
        "colab": {
          "base_uri": "https://localhost:8080/"
        },
        "id": "PKEkXQqueh7f",
        "outputId": "8de83e3d-ec4e-4936-b132-47050a979d30"
      },
      "execution_count": null,
      "outputs": [
        {
          "output_type": "execute_result",
          "data": {
            "text/plain": [
              "RandomForestClassifier()"
            ]
          },
          "metadata": {},
          "execution_count": 11
        }
      ]
    },
    {
      "cell_type": "code",
      "source": [
        "#Uso de clasificador arbol de decisiones\n",
        "from sklearn.tree import DecisionTreeClassifier\n",
        "model_dt = DecisionTreeClassifier()\n",
        "model_dt.fit(X_train , Y_train)"
      ],
      "metadata": {
        "colab": {
          "base_uri": "https://localhost:8080/"
        },
        "id": "bJbONRDUe-Gj",
        "outputId": "19acee3d-b3d3-4bce-d9cc-04b28113f5bc"
      },
      "execution_count": null,
      "outputs": [
        {
          "output_type": "execute_result",
          "data": {
            "text/plain": [
              "DecisionTreeClassifier()"
            ]
          },
          "metadata": {},
          "execution_count": 12
        }
      ]
    },
    {
      "cell_type": "code",
      "source": [
        "from sklearn.metrics import accuracy_score\n",
        "print(\"Accuracy of\" , model_svc , \"is\" , accuracy_score(Y_test , model_svc.predict(X_test)))\n",
        "print(\"Accuracy of\" , model_rfc , \"is\" , accuracy_score(Y_test , model_rfc.predict(X_test)))\n",
        "print(\"Accuracy of\" , model_dt , \"is\" , accuracy_score(Y_test , model_dt.predict(X_test)))"
      ],
      "metadata": {
        "colab": {
          "base_uri": "https://localhost:8080/"
        },
        "id": "OzS57q89eT_A",
        "outputId": "a00a076f-f326-4224-8423-4398ab0f842c"
      },
      "execution_count": null,
      "outputs": [
        {
          "output_type": "stream",
          "name": "stdout",
          "text": [
            "Accuracy of SVC() is 0.8852459016393442\n",
            "Accuracy of RandomForestClassifier() is 0.8524590163934426\n",
            "Accuracy of DecisionTreeClassifier() is 0.819672131147541\n"
          ]
        }
      ]
    }
  ]
}