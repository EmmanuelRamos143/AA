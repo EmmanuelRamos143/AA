{
  "nbformat": 4,
  "nbformat_minor": 0,
  "metadata": {
    "colab": {
      "provenance": [],
      "authorship_tag": "ABX9TyMpoK4wSNhotpYvSSGS98GG",
      "include_colab_link": true
    },
    "kernelspec": {
      "name": "python3",
      "display_name": "Python 3"
    },
    "language_info": {
      "name": "python"
    }
  },
  "cells": [
    {
      "cell_type": "markdown",
      "metadata": {
        "id": "view-in-github",
        "colab_type": "text"
      },
      "source": [
        "<a href=\"https://colab.research.google.com/github/EmmanuelRamos143/AA/blob/main/Tarea4_2pts.ipynb\" target=\"_parent\"><img src=\"https://colab.research.google.com/assets/colab-badge.svg\" alt=\"Open In Colab\"/></a>"
      ]
    },
    {
      "cell_type": "code",
      "execution_count": 4,
      "metadata": {
        "colab": {
          "base_uri": "https://localhost:8080/",
          "height": 206
        },
        "id": "dMDEhd5KtwVG",
        "outputId": "e711fb1e-5790-4911-e921-6bb6047db15d"
      },
      "outputs": [
        {
          "output_type": "display_data",
          "data": {
            "text/plain": [
              "<IPython.core.display.Markdown object>"
            ],
            "text/markdown": "|    |   age |   sex |   cp |   trtbps |   chol |   fbs |   restecg |   thalachh |   exng |   oldpeak |   slp |   caa |   thall |\n|---:|------:|------:|-----:|---------:|-------:|------:|----------:|-----------:|-------:|----------:|------:|------:|--------:|\n|  0 |    63 |     1 |    3 |      145 |    233 |     1 |         0 |        150 |      0 |       2.3 |     0 |     0 |       1 |\n|  1 |    37 |     1 |    2 |      130 |    250 |     0 |         1 |        187 |      0 |       3.5 |     0 |     0 |       2 |\n|  2 |    41 |     0 |    1 |      130 |    204 |     0 |         0 |        172 |      0 |       1.4 |     2 |     0 |       2 |\n|  3 |    56 |     1 |    1 |      120 |    236 |     0 |         1 |        178 |      0 |       0.8 |     2 |     0 |       2 |\n|  4 |    57 |     0 |    0 |      120 |    354 |     0 |         1 |        163 |      1 |       0.6 |     2 |     0 |       2 |"
          },
          "metadata": {}
        }
      ],
      "source": [
        "from sklearn.feature_selection import SelectKBest\n",
        "from sklearn.feature_selection import chi2, f_regression\n",
        "\n",
        "from numpy import array \n",
        "\n",
        "import warnings\n",
        "warnings.filterwarnings('ignore')\n",
        "import sys\n",
        "\n",
        "sys.path.append('/content/HeartAttack.py')\n",
        "from HeartAttack import *\n",
        "\n",
        "heart_df = HeartAttackHelper.obtainHearthDF()\n",
        "heart_df_out = heart_df['output'] \n",
        "heart_df.drop('output', axis=1, inplace=True)\n",
        "\n",
        "display(Markdown(heart_df.head().to_markdown()))\n"
      ]
    },
    {
      "cell_type": "markdown",
      "source": [
        "Seleccion de caracteristicas basado en **13 features** presentes"
      ],
      "metadata": {
        "id": "vbHVnUbbum28"
      }
    },
    {
      "cell_type": "code",
      "source": [
        "select = SelectKBest(score_func=chi2, k=4)\n",
        "z = select.fit_transform(heart_df,heart_df_out)\n",
        "filter = select.get_support()\n",
        "features = array(hearth_df.columns)\n",
        "print(\"All features:\")\n",
        "print(features)\n",
        " \n",
        "print(\"Selected best 4:\")\n",
        "print(features[filter])\n",
        "print(z) "
      ],
      "metadata": {
        "colab": {
          "base_uri": "https://localhost:8080/"
        },
        "id": "b3010PUWvAs3",
        "outputId": "9722b50f-f624-4889-8464-2c0b1ab710e4"
      },
      "execution_count": 8,
      "outputs": [
        {
          "output_type": "stream",
          "name": "stdout",
          "text": [
            "All features:\n",
            "['age' 'sex' 'cp' 'trtbps' 'chol' 'fbs' 'restecg' 'thalachh' 'exng'\n",
            " 'oldpeak' 'slp' 'caa' 'thall']\n",
            "Selected best 4:\n",
            "['cp' 'thalachh' 'oldpeak' 'caa']\n",
            "[[  3.  150.    2.3   0. ]\n",
            " [  2.  187.    3.5   0. ]\n",
            " [  1.  172.    1.4   0. ]\n",
            " ...\n",
            " [  0.  141.    3.4   2. ]\n",
            " [  0.  115.    1.2   1. ]\n",
            " [  1.  174.    0.    1. ]]\n"
          ]
        }
      ]
    },
    {
      "cell_type": "markdown",
      "source": [
        "Caracteristicas selecccionadas con chi2 **cp , thalachh , oldpeak , caa**"
      ],
      "metadata": {
        "id": "DlLSQiX-yr1T"
      }
    }
  ]
}