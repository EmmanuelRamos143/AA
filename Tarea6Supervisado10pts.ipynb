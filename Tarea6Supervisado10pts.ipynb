{
  "nbformat": 4,
  "nbformat_minor": 0,
  "metadata": {
    "colab": {
      "provenance": [],
      "authorship_tag": "ABX9TyMcZnlK/0gmE3OBwxMts06r",
      "include_colab_link": true
    },
    "kernelspec": {
      "name": "python3",
      "display_name": "Python 3"
    },
    "language_info": {
      "name": "python"
    }
  },
  "cells": [
    {
      "cell_type": "markdown",
      "metadata": {
        "id": "view-in-github",
        "colab_type": "text"
      },
      "source": [
        "<a href=\"https://colab.research.google.com/github/EmmanuelRamos143/AA/blob/main/Tarea6Supervisado10pts.ipynb\" target=\"_parent\"><img src=\"https://colab.research.google.com/assets/colab-badge.svg\" alt=\"Open In Colab\"/></a>"
      ]
    },
    {
      "cell_type": "markdown",
      "source": [
        "# Regresión Lineal\n",
        "\n"
      ],
      "metadata": {
        "id": "dA9cbVf9q5Hw"
      }
    },
    {
      "cell_type": "code",
      "execution_count": 3,
      "metadata": {
        "id": "q3fa9ZutEq2l"
      },
      "outputs": [],
      "source": [
        "import warnings\n",
        "warnings.filterwarnings('ignore')\n",
        "import sys\n",
        "\n",
        "sys.path.append('/content/HeartAttack.py')\n",
        "from HeartAttack import *\n",
        "\n",
        "heart_df = HeartAttackHelper.obtainHearthDF()"
      ]
    },
    {
      "cell_type": "markdown",
      "source": [
        "Seleccionamos las caracterisitcas de interes mas nuestra variable de respuesta.\n"
      ],
      "metadata": {
        "id": "Pora-UJusSm1"
      }
    },
    {
      "cell_type": "code",
      "source": [
        "import seaborn as sns\n",
        "sns.displot(heart_df['output'])"
      ],
      "metadata": {
        "colab": {
          "base_uri": "https://localhost:8080/",
          "height": 386
        },
        "id": "LqCHbr5SsY7H",
        "outputId": "e3167ef2-a5ac-449f-e478-ba08e457d103"
      },
      "execution_count": 6,
      "outputs": [
        {
          "output_type": "execute_result",
          "data": {
            "text/plain": [
              "<seaborn.axisgrid.FacetGrid at 0x7f659014d0a0>"
            ]
          },
          "metadata": {},
          "execution_count": 6
        },
        {
          "output_type": "display_data",
          "data": {
            "text/plain": [
              "<Figure size 360x360 with 1 Axes>"
            ],
            "image/png": "[encoded data removed]"
          },
          "metadata": {
            "needs_background": "light"
          }
        }
      ]
    },
    {
      "cell_type": "markdown",
      "source": [
        "Tal como vemos en la grafica anterior nuestra variable de respuesta esta distribuida de manera categorica siendo 1 los pacientes con enfermedades del corazon y 0 personas sin enfermedad."
      ],
      "metadata": {
        "id": "rSAIoaSssujL"
      }
    },
    {
      "cell_type": "code",
      "source": [
        "heart_df.columns"
      ],
      "metadata": {
        "colab": {
          "base_uri": "https://localhost:8080/"
        },
        "id": "JN5I5p_QuJqy",
        "outputId": "f2fe2150-e093-4570-d549-5ed13e812bb3"
      },
      "execution_count": 10,
      "outputs": [
        {
          "output_type": "execute_result",
          "data": {
            "text/plain": [
              "Index(['age', 'sex', 'cp', 'trtbps', 'chol', 'fbs', 'restecg', 'thalachh',\n",
              "       'exng', 'oldpeak', 'slp', 'caa', 'thall', 'output'],\n",
              "      dtype='object')"
            ]
          },
          "metadata": {},
          "execution_count": 10
        }
      ]
    },
    {
      "cell_type": "code",
      "source": [
        "#Realizamos ahorta un subconjunto de datos\n",
        "\n",
        "X = heart_df[['cp', 'caa','thall', 'oldpeak', 'slp', 'thalachh']]\n",
        "y = heart_df[['output']]"
      ],
      "metadata": {
        "id": "7grQp61gsRSr"
      },
      "execution_count": 13,
      "outputs": []
    },
    {
      "cell_type": "code",
      "source": [
        "from sklearn.model_selection import train_test_split\n",
        "from sklearn.linear_model import LinearRegression\n",
        "X_train, X_test, y_train, y_test = train_test_split(X, y, test_size=0.4, random_state=101)"
      ],
      "metadata": {
        "id": "DoSA00csufMv"
      },
      "execution_count": 14,
      "outputs": []
    },
    {
      "cell_type": "code",
      "source": [
        "#Inicializamos nuestro modelo de regresion \n",
        "lm = LinearRegression()\n",
        "lm.fit(X_train,y_train)"
      ],
      "metadata": {
        "colab": {
          "base_uri": "https://localhost:8080/"
        },
        "id": "Wg_WCDY8un9F",
        "outputId": "05b18e6c-90b0-4267-9f33-5ef1ab442b59"
      },
      "execution_count": 15,
      "outputs": [
        {
          "output_type": "execute_result",
          "data": {
            "text/plain": [
              "LinearRegression()"
            ]
          },
          "metadata": {},
          "execution_count": 15
        }
      ]
    },
    {
      "cell_type": "code",
      "source": [
        "#Obtenemos el intercepto\n",
        "print(lm.intercept_)"
      ],
      "metadata": {
        "colab": {
          "base_uri": "https://localhost:8080/"
        },
        "id": "wSVJldhauwpk",
        "outputId": "d9906465-be2d-4ee7-d364-bed500ccc004"
      },
      "execution_count": 16,
      "outputs": [
        {
          "output_type": "stream",
          "name": "stdout",
          "text": [
            "[0.61225272]\n"
          ]
        }
      ]
    }
  ]
}